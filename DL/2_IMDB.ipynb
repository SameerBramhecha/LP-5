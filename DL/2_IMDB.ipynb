{
  "cells": [
    {
      "cell_type": "code",
      "execution_count": 14,
      "metadata": {
        "id": "3pKLfltkaTGI"
      },
      "outputs": [],
      "source": [
        "from tensorflow.keras.datasets import imdb"
      ]
    },
    {
      "cell_type": "code",
      "execution_count": 15,
      "metadata": {
        "colab": {
          "base_uri": "https://localhost:8080/"
        },
        "id": "q4kkC5m4dB9g",
        "outputId": "fa651f20-551c-42be-a6f0-c42129324d41"
      },
      "outputs": [
        {
          "name": "stdout",
          "output_type": "stream",
          "text": [
            "Downloading data from https://storage.googleapis.com/tensorflow/tf-keras-datasets/imdb.npz\n",
            "17464789/17464789 [==============================] - 0s 0us/step\n"
          ]
        }
      ],
      "source": [
        "(train_data, train_label), (test_data, test_label) = imdb.load_data(num_words = 10000)"
      ]
    },
    {
      "cell_type": "code",
      "execution_count": 24,
      "metadata": {
        "id": "zQSeawyChhL8"
      },
      "outputs": [],
      "source": [
        "import numpy as np\n",
        "\n",
        "def vectorize_sequences(sequences, dimensions = 10000):\n",
        "  results = np.zeros((len(sequences), dimensions))\n",
        "  for i,sequences in enumerate(sequences):\n",
        "    results[i, sequences] = 1\n",
        "  return results\n",
        "\n",
        "x_train = vectorize_sequences(train_data)\n",
        "y_train = vectorize_sequences(test_data)"
      ]
    },
    {
      "cell_type": "code",
      "execution_count": 25,
      "metadata": {
        "id": "bfvRmjVvj8UH"
      },
      "outputs": [],
      "source": [
        "y_train = np.asarray(train_label).astype('float32')\n",
        "y_test = np.asarray(test_label).astype('float32')"
      ]
    },
    {
      "cell_type": "code",
      "execution_count": 31,
      "metadata": {
        "id": "A1fj3RCWpl8g"
      },
      "outputs": [],
      "source": [
        "from tensorflow.keras.models import Sequential\n",
        "from tensorflow.keras.layers import Dense"
      ]
    },
    {
      "cell_type": "code",
      "execution_count": 19,
      "metadata": {
        "id": "9ESdCTH5p3xJ"
      },
      "outputs": [],
      "source": [
        "model = Sequential()\n",
        "model.add(Dense(16, input_shape=(10000, ), activation = \"relu\"))\n",
        "model.add(Dense(16, activation = \"relu\"))\n",
        "model.add(Dense(1, activation = \"sigmoid\"))"
      ]
    },
    {
      "cell_type": "code",
      "execution_count": 32,
      "metadata": {
        "id": "t3u-nNLarXzk"
      },
      "outputs": [],
      "source": [
        "model.compile(optimizer='adam', loss = 'mse', metrics = ['accuracy'])"
      ]
    },
    {
      "cell_type": "code",
      "execution_count": 22,
      "metadata": {
        "colab": {
          "base_uri": "https://localhost:8080/"
        },
        "id": "Z9mUT6JqrlmZ",
        "outputId": "2c647471-7be6-409f-b58b-19f1f56557c9"
      },
      "outputs": [
        {
          "name": "stdout",
          "output_type": "stream",
          "text": [
            "Model: \"sequential\"\n",
            "_________________________________________________________________\n",
            " Layer (type)                Output Shape              Param #   \n",
            "=================================================================\n",
            " dense (Dense)               (None, 16)                160016    \n",
            "                                                                 \n",
            " dense_1 (Dense)             (None, 16)                272       \n",
            "                                                                 \n",
            " dense_2 (Dense)             (None, 1)                 17        \n",
            "                                                                 \n",
            "=================================================================\n",
            "Total params: 160,305\n",
            "Trainable params: 160,305\n",
            "Non-trainable params: 0\n",
            "_________________________________________________________________\n"
          ]
        }
      ],
      "source": [
        "model.summary()"
      ]
    },
    {
      "cell_type": "code",
      "execution_count": 33,
      "metadata": {
        "colab": {
          "base_uri": "https://localhost:8080/"
        },
        "id": "4DeosLh5rnaQ",
        "outputId": "3d005b2f-4ca4-4f71-9e3a-2396bbfc170f"
      },
      "outputs": [
        {
          "name": "stdout",
          "output_type": "stream",
          "text": [
            "Epoch 1/20\n",
            "35/35 [==============================] - 2s 39ms/step - loss: 0.0041 - accuracy: 0.9960 - val_loss: 0.1162 - val_accuracy: 0.8652\n",
            "Epoch 2/20\n",
            "35/35 [==============================] - 1s 35ms/step - loss: 0.0042 - accuracy: 0.9959 - val_loss: 0.1171 - val_accuracy: 0.8648\n",
            "Epoch 3/20\n",
            "35/35 [==============================] - 1s 32ms/step - loss: 0.0043 - accuracy: 0.9958 - val_loss: 0.1192 - val_accuracy: 0.8636\n",
            "Epoch 4/20\n",
            "35/35 [==============================] - 1s 31ms/step - loss: 0.0042 - accuracy: 0.9959 - val_loss: 0.1210 - val_accuracy: 0.8619\n",
            "Epoch 5/20\n",
            "35/35 [==============================] - 1s 31ms/step - loss: 0.0041 - accuracy: 0.9960 - val_loss: 0.1208 - val_accuracy: 0.8628\n",
            "Epoch 6/20\n",
            "35/35 [==============================] - 1s 42ms/step - loss: 0.0041 - accuracy: 0.9959 - val_loss: 0.1210 - val_accuracy: 0.8619\n",
            "Epoch 7/20\n",
            "35/35 [==============================] - 2s 47ms/step - loss: 0.0040 - accuracy: 0.9961 - val_loss: 0.1213 - val_accuracy: 0.8621\n",
            "Epoch 8/20\n",
            "35/35 [==============================] - 1s 31ms/step - loss: 0.0041 - accuracy: 0.9960 - val_loss: 0.1214 - val_accuracy: 0.8620\n",
            "Epoch 9/20\n",
            "35/35 [==============================] - 1s 32ms/step - loss: 0.0041 - accuracy: 0.9961 - val_loss: 0.1204 - val_accuracy: 0.8655\n",
            "Epoch 10/20\n",
            "35/35 [==============================] - 1s 32ms/step - loss: 0.0041 - accuracy: 0.9961 - val_loss: 0.1215 - val_accuracy: 0.8633\n",
            "Epoch 11/20\n",
            "35/35 [==============================] - 1s 37ms/step - loss: 0.0040 - accuracy: 0.9961 - val_loss: 0.1224 - val_accuracy: 0.8623\n",
            "Epoch 12/20\n",
            "35/35 [==============================] - 1s 32ms/step - loss: 0.0039 - accuracy: 0.9961 - val_loss: 0.1223 - val_accuracy: 0.8617\n",
            "Epoch 13/20\n",
            "35/35 [==============================] - 1s 35ms/step - loss: 0.0039 - accuracy: 0.9961 - val_loss: 0.1223 - val_accuracy: 0.8613\n",
            "Epoch 14/20\n",
            "35/35 [==============================] - 1s 36ms/step - loss: 0.0039 - accuracy: 0.9961 - val_loss: 0.1223 - val_accuracy: 0.8616\n",
            "Epoch 15/20\n",
            "35/35 [==============================] - 1s 31ms/step - loss: 0.0039 - accuracy: 0.9961 - val_loss: 0.1223 - val_accuracy: 0.8613\n",
            "Epoch 16/20\n",
            "35/35 [==============================] - 1s 38ms/step - loss: 0.0039 - accuracy: 0.9961 - val_loss: 0.1224 - val_accuracy: 0.8611\n",
            "Epoch 17/20\n",
            "35/35 [==============================] - 2s 48ms/step - loss: 0.0039 - accuracy: 0.9961 - val_loss: 0.1224 - val_accuracy: 0.8607\n",
            "Epoch 18/20\n",
            "35/35 [==============================] - 1s 37ms/step - loss: 0.0039 - accuracy: 0.9961 - val_loss: 0.1224 - val_accuracy: 0.8608\n",
            "Epoch 19/20\n",
            "35/35 [==============================] - 1s 35ms/step - loss: 0.0039 - accuracy: 0.9961 - val_loss: 0.1224 - val_accuracy: 0.8605\n",
            "Epoch 20/20\n",
            "35/35 [==============================] - 2s 60ms/step - loss: 0.0039 - accuracy: 0.9961 - val_loss: 0.1224 - val_accuracy: 0.8609\n"
          ]
        }
      ],
      "source": [
        "history = model.fit(x_train, y_train, validation_split = 0.3, epochs = 20, verbose = 1, batch_size = 512)"
      ]
    }
  ],
  "metadata": {
    "colab": {
      "provenance": []
    },
    "kernelspec": {
      "display_name": "Python 3",
      "name": "python3"
    },
    "language_info": {
      "name": "python"
    }
  },
  "nbformat": 4,
  "nbformat_minor": 0
}
