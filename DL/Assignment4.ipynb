{
 "cells": [
  {
   "cell_type": "code",
   "execution_count": 1,
   "id": "f405d6cc",
   "metadata": {},
   "outputs": [],
   "source": [
    "import pandas as pd\n",
    "import numpy as np\n",
    "from sklearn.preprocessing import MinMaxScaler\n",
    "from keras.models import Sequential\n",
    "from keras.layers import Dense, LSTM\n",
    "from sklearn.metrics import mean_absolute_error, mean_squared_error\n",
    "import tensorflow as tf\n",
    "tf.config.run_functions_eagerly(True)"
   ]
  },
  {
   "cell_type": "code",
   "execution_count": 2,
   "id": "c67ab1bd",
   "metadata": {},
   "outputs": [],
   "source": [
    "# Step 1: Data Preparation\n",
    "data = pd.read_csv('goog1.csv')\n",
    "scaler = MinMaxScaler(feature_range=(0, 1))\n",
    "scaled_data = scaler.fit_transform(data['Close'].values.reshape(-1, 1))"
   ]
  },
  {
   "cell_type": "code",
   "execution_count": 3,
   "id": "ab26d9a4",
   "metadata": {},
   "outputs": [],
   "source": [
    "# Step 2: Dataset Splitting\n",
    "train_data = scaled_data[:int(len(scaled_data) * 0.8)]\n",
    "test_data = scaled_data[int(len(scaled_data) * 0.8):]"
   ]
  },
  {
   "cell_type": "code",
   "execution_count": 4,
   "id": "d2977723",
   "metadata": {},
   "outputs": [],
   "source": [
    "# Step 3: Data Sequencing\n",
    "def create_sequences(data, time_steps=6):\n",
    "    X = []\n",
    "    y = []\n",
    "    for i in range(len(data) - time_steps):\n",
    "        X.append(data[i:i+time_steps, 0])\n",
    "        y.append(data[i+time_steps, 0])\n",
    "    return np.array(X), np.array(y)"
   ]
  },
  {
   "cell_type": "code",
   "execution_count": 5,
   "id": "6f2c168c",
   "metadata": {},
   "outputs": [],
   "source": [
    "X_train, y_train = create_sequences(train_data)\n",
    "X_test, y_test = create_sequences(test_data)"
   ]
  },
  {
   "cell_type": "code",
   "execution_count": 6,
   "id": "05983ca0",
   "metadata": {},
   "outputs": [
    {
     "name": "stdout",
     "output_type": "stream",
     "text": [
      "Epoch 1/50\n",
      " 1/11 [=>............................] - ETA: 0s - loss: 0.2613"
     ]
    },
    {
     "name": "stderr",
     "output_type": "stream",
     "text": [
      "C:\\Users\\bramh\\anaconda3\\lib\\site-packages\\tensorflow\\python\\data\\ops\\structured_function.py:264: UserWarning: Even though the `tf.config.experimental_run_functions_eagerly` option is set, this option does not apply to tf.data functions. To force eager execution of tf.data functions, please use `tf.data.experimental.enable_debug_mode()`.\n",
      "  warnings.warn(\n"
     ]
    },
    {
     "name": "stdout",
     "output_type": "stream",
     "text": [
      "11/11 [==============================] - 1s 54ms/step - loss: 0.1749\n",
      "Epoch 2/50\n",
      "11/11 [==============================] - 1s 102ms/step - loss: 0.0469\n",
      "Epoch 3/50\n",
      "11/11 [==============================] - 1s 106ms/step - loss: 0.0289\n",
      "Epoch 4/50\n",
      "11/11 [==============================] - 1s 98ms/step - loss: 0.0252\n",
      "Epoch 5/50\n",
      "11/11 [==============================] - 1s 96ms/step - loss: 0.0260\n",
      "Epoch 6/50\n",
      "11/11 [==============================] - 1s 95ms/step - loss: 0.0248\n",
      "Epoch 7/50\n",
      "11/11 [==============================] - 1s 89ms/step - loss: 0.0236\n",
      "Epoch 8/50\n",
      "11/11 [==============================] - 1s 90ms/step - loss: 0.0255\n",
      "Epoch 9/50\n",
      "11/11 [==============================] - 1s 89ms/step - loss: 0.0235\n",
      "Epoch 10/50\n",
      "11/11 [==============================] - 1s 88ms/step - loss: 0.0236\n",
      "Epoch 11/50\n",
      "11/11 [==============================] - 1s 91ms/step - loss: 0.0228\n",
      "Epoch 12/50\n",
      "11/11 [==============================] - 1s 86ms/step - loss: 0.0251\n",
      "Epoch 13/50\n",
      "11/11 [==============================] - 1s 90ms/step - loss: 0.0265\n",
      "Epoch 14/50\n",
      "11/11 [==============================] - 1s 95ms/step - loss: 0.0247\n",
      "Epoch 15/50\n",
      "11/11 [==============================] - 1s 89ms/step - loss: 0.0261\n",
      "Epoch 16/50\n",
      "11/11 [==============================] - 1s 87ms/step - loss: 0.0229\n",
      "Epoch 17/50\n",
      "11/11 [==============================] - 1s 87ms/step - loss: 0.0220\n",
      "Epoch 18/50\n",
      "11/11 [==============================] - 1s 88ms/step - loss: 0.0225\n",
      "Epoch 19/50\n",
      "11/11 [==============================] - 1s 92ms/step - loss: 0.0216\n",
      "Epoch 20/50\n",
      "11/11 [==============================] - 1s 88ms/step - loss: 0.0216\n",
      "Epoch 21/50\n",
      "11/11 [==============================] - 1s 96ms/step - loss: 0.0216\n",
      "Epoch 22/50\n",
      "11/11 [==============================] - 1s 89ms/step - loss: 0.0209\n",
      "Epoch 23/50\n",
      "11/11 [==============================] - 1s 89ms/step - loss: 0.0236\n",
      "Epoch 24/50\n",
      "11/11 [==============================] - 1s 89ms/step - loss: 0.0236\n",
      "Epoch 25/50\n",
      "11/11 [==============================] - 1s 93ms/step - loss: 0.0234\n",
      "Epoch 26/50\n",
      "11/11 [==============================] - 1s 90ms/step - loss: 0.0201\n",
      "Epoch 27/50\n",
      "11/11 [==============================] - 1s 94ms/step - loss: 0.0203\n",
      "Epoch 28/50\n",
      "11/11 [==============================] - 1s 87ms/step - loss: 0.0197\n",
      "Epoch 29/50\n",
      "11/11 [==============================] - 1s 87ms/step - loss: 0.0197\n",
      "Epoch 30/50\n",
      "11/11 [==============================] - 1s 87ms/step - loss: 0.0190\n",
      "Epoch 31/50\n",
      "11/11 [==============================] - 1s 90ms/step - loss: 0.0188\n",
      "Epoch 32/50\n",
      "11/11 [==============================] - 1s 88ms/step - loss: 0.0180\n",
      "Epoch 33/50\n",
      "11/11 [==============================] - 1s 88ms/step - loss: 0.0178\n",
      "Epoch 34/50\n",
      "11/11 [==============================] - 1s 86ms/step - loss: 0.0175\n",
      "Epoch 35/50\n",
      "11/11 [==============================] - 1s 90ms/step - loss: 0.0169\n",
      "Epoch 36/50\n",
      "11/11 [==============================] - 1s 87ms/step - loss: 0.0171\n",
      "Epoch 37/50\n",
      "11/11 [==============================] - 1s 88ms/step - loss: 0.0162\n",
      "Epoch 38/50\n",
      "11/11 [==============================] - 1s 87ms/step - loss: 0.0151\n",
      "Epoch 39/50\n",
      "11/11 [==============================] - 1s 88ms/step - loss: 0.0153\n",
      "Epoch 40/50\n",
      "11/11 [==============================] - 1s 87ms/step - loss: 0.0154\n",
      "Epoch 41/50\n",
      "11/11 [==============================] - 1s 91ms/step - loss: 0.0143\n",
      "Epoch 42/50\n",
      "11/11 [==============================] - 1s 88ms/step - loss: 0.0153\n",
      "Epoch 43/50\n",
      "11/11 [==============================] - 1s 87ms/step - loss: 0.0151\n",
      "Epoch 44/50\n",
      "11/11 [==============================] - 1s 91ms/step - loss: 0.0149\n",
      "Epoch 45/50\n",
      "11/11 [==============================] - 1s 100ms/step - loss: 0.0134\n",
      "Epoch 46/50\n",
      "11/11 [==============================] - 1s 88ms/step - loss: 0.0119\n",
      "Epoch 47/50\n",
      "11/11 [==============================] - 1s 88ms/step - loss: 0.0130\n",
      "Epoch 48/50\n",
      "11/11 [==============================] - 1s 89ms/step - loss: 0.0113\n",
      "Epoch 49/50\n",
      "11/11 [==============================] - 1s 87ms/step - loss: 0.0111\n",
      "Epoch 50/50\n",
      "11/11 [==============================] - 1s 88ms/step - loss: 0.0105\n"
     ]
    },
    {
     "data": {
      "text/plain": [
       "<keras.callbacks.History at 0x22fe19163a0>"
      ]
     },
     "execution_count": 6,
     "metadata": {},
     "output_type": "execute_result"
    }
   ],
   "source": [
    "# Step 4: Model Training\n",
    "model = Sequential()\n",
    "model.add(LSTM(units=50, return_sequences=True, input_shape=(X_train.shape[1], 1)))\n",
    "model.add(LSTM(units=50))\n",
    "model.add(Dense(units=1))\n",
    "model.compile(optimizer='adam', loss='mean_squared_error')\n",
    "model.fit(X_train, y_train, epochs=50, batch_size=4)"
   ]
  },
  {
   "cell_type": "code",
   "execution_count": 7,
   "id": "9f9f7581",
   "metadata": {},
   "outputs": [],
   "source": [
    "# Step 5: Model Evaluation"
   ]
  },
  {
   "cell_type": "code",
   "execution_count": 8,
   "id": "5a2db0d6",
   "metadata": {},
   "outputs": [],
   "source": [
    "y_pred = model.predict(X_test)\n",
    "y_pred = scaler.inverse_transform(y_pred)\n",
    "y_test = scaler.inverse_transform(y_test.reshape(-1, 1))"
   ]
  },
  {
   "cell_type": "code",
   "execution_count": 9,
   "id": "5034795a",
   "metadata": {},
   "outputs": [
    {
     "name": "stdout",
     "output_type": "stream",
     "text": [
      "MAE:  14.036952364397312\n",
      "MSE:  202.17756564957963\n",
      "RMSE:  14.218915769128799\n"
     ]
    }
   ],
   "source": [
    "mae = mean_absolute_error(y_test, y_pred)\n",
    "mse = mean_squared_error(y_test, y_pred)\n",
    "rmse = np.sqrt(mse)\n",
    "print('MAE: ', mae)\n",
    "print('MSE: ', mse)\n",
    "print('RMSE: ', rmse)"
   ]
  },
  {
   "cell_type": "code",
   "execution_count": 10,
   "id": "5df88578",
   "metadata": {},
   "outputs": [],
   "source": [
    "# Step 6: Prediction\n",
    "last_6_days = data['Close'][-6:].values\n",
    "last_6_days_scaled = scaler.transform(last_6_days.reshape(-1, 1))\n",
    "X_pred = []\n",
    "X_pred.append(last_6_days_scaled)\n",
    "X_pred = np.array(X_pred)\n",
    "X_pred = np.reshape(X_pred, (X_pred.shape[0], X_pred.shape[1], 1))"
   ]
  },
  {
   "cell_type": "code",
   "execution_count": 11,
   "id": "5d786f0b",
   "metadata": {},
   "outputs": [
    {
     "name": "stdout",
     "output_type": "stream",
     "text": [
      "Predicted price for the next day:  [[834.84937]]\n"
     ]
    },
    {
     "name": "stderr",
     "output_type": "stream",
     "text": [
      "C:\\Users\\bramh\\anaconda3\\lib\\site-packages\\tensorflow\\python\\data\\ops\\structured_function.py:264: UserWarning: Even though the `tf.config.experimental_run_functions_eagerly` option is set, this option does not apply to tf.data functions. To force eager execution of tf.data functions, please use `tf.data.experimental.enable_debug_mode()`.\n",
      "  warnings.warn(\n"
     ]
    }
   ],
   "source": [
    "pred_price = model.predict(X_pred)\n",
    "pred_price = scaler.inverse_transform(pred_price)\n",
    "print('Predicted price for the next day: ', pred_price)"
   ]
  },
  {
   "cell_type": "code",
   "execution_count": 12,
   "id": "d204b63f",
   "metadata": {},
   "outputs": [
    {
     "data": {
      "image/png": "[encoded data removed]",
      "text/plain": [
       "<Figure size 432x288 with 1 Axes>"
      ]
     },
     "metadata": {
      "needs_background": "light"
     },
     "output_type": "display_data"
    }
   ],
   "source": [
    "import matplotlib.pyplot as plt\n",
    "\n",
    "# Plotting the original test data\n",
    "plt.plot(y_test, label='Actual Price')\n",
    "\n",
    "# Plotting the predicted prices\n",
    "plt.plot(y_pred, label='Predicted Price')\n",
    "\n",
    "plt.title('Actual vs Predicted Price')\n",
    "plt.xlabel('Time')\n",
    "plt.ylabel('Price')\n",
    "plt.legend()\n",
    "plt.grid(True)\n",
    "plt.show()"
   ]
  },
  {
   "cell_type": "code",
   "execution_count": null,
   "id": "7441bdb7",
   "metadata": {},
   "outputs": [],
   "source": []
  }
 ],
 "metadata": {
  "kernelspec": {
   "display_name": "Python 3 (ipykernel)",
   "language": "python",
   "name": "python3"
  },
  "language_info": {
   "codemirror_mode": {
    "name": "ipython",
    "version": 3
   },
   "file_extension": ".py",
   "mimetype": "text/x-python",
   "name": "python",
   "nbconvert_exporter": "python",
   "pygments_lexer": "ipython3",
   "version": "3.9.7"
  }
 },
 "nbformat": 4,
 "nbformat_minor": 5
}
