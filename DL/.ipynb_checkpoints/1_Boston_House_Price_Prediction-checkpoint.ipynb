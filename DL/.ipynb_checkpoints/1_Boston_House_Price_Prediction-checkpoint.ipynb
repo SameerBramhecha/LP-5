{
 "cells": [
  {
   "cell_type": "code",
   "execution_count": 1,
   "metadata": {},
   "outputs": [],
   "source": [
    "import pandas as pd\n",
    "df = pd.read_csv(\"./1_boston_housing.csv\")"
   ]
  },
  {
   "cell_type": "code",
   "execution_count": 2,
   "metadata": {
    "id": "4FEDjg8rsyi0"
   },
   "outputs": [],
   "source": [
    "from sklearn.model_selection import train_test_split\n",
    "\n",
    "X = df.loc[:, df.columns != 'MEDV']\n",
    "y = df.loc[:, df.columns == 'MEDV']\n",
    "X_train, X_test, y_train, y_test = train_test_split(X, y, test_size=0.3, random_state=123)"
   ]
  },
  {
   "cell_type": "code",
   "execution_count": 3,
   "metadata": {},
   "outputs": [],
   "source": [
    "from sklearn.preprocessing import MinMaxScaler\n",
    "mms = MinMaxScaler()\n",
    "mms.fit(X_train)\n",
    "X_train = mms.transform(X_train)\n",
    "X_test = mms.transform(X_test)"
   ]
  },
  {
   "cell_type": "code",
   "execution_count": 4,
   "metadata": {
    "colab": {
     "base_uri": "https://localhost:8080/"
    },
    "id": "VL8VMy_fs3fl",
    "outputId": "45cccbbb-2771-4a26-edfc-b0a66c875ab0"
   },
   "outputs": [
    {
     "name": "stdout",
     "output_type": "stream",
     "text": [
      "Model: \"sequential\"\n",
      "_________________________________________________________________\n",
      " Layer (type)                Output Shape              Param #   \n",
      "=================================================================\n",
      " dense_1 (Dense)             (None, 128)               1792      \n",
      "                                                                 \n",
      " dense_2 (Dense)             (None, 64)                8256      \n",
      "                                                                 \n",
      " dense_output (Dense)        (None, 1)                 65        \n",
      "                                                                 \n",
      "=================================================================\n",
      "Total params: 10,113\n",
      "Trainable params: 10,113\n",
      "Non-trainable params: 0\n",
      "_________________________________________________________________\n"
     ]
    }
   ],
   "source": [
    "from tensorflow.keras.models import Sequential\n",
    "from tensorflow.keras.layers import Dense\n",
    "\n",
    "model = Sequential()\n",
    "\n",
    "model.add(Dense(128, input_shape=(13, ), activation='relu', name='dense_1'))\n",
    "model.add(Dense(64, activation='relu', name='dense_2'))\n",
    "model.add(Dense(1, activation='linear', name='dense_output'))\n",
    "\n",
    "model.compile(optimizer='adam', loss='mse', metrics=['mae'])\n",
    "model.summary()"
   ]
  },
  {
   "cell_type": "code",
   "execution_count": 5,
   "metadata": {
    "colab": {
     "base_uri": "https://localhost:8080/"
    },
    "id": "Y7m71ooKs5of",
    "outputId": "06852ed4-2013-488c-8707-6826dd1d4412"
   },
   "outputs": [
    {
     "name": "stdout",
     "output_type": "stream",
     "text": [
      "Epoch 1/100\n",
      "11/11 [==============================] - 1s 21ms/step - loss: 586.1544 - mae: 22.3586 - val_loss: 599.7356 - val_mae: 22.5585\n",
      "Epoch 2/100\n",
      "11/11 [==============================] - 0s 5ms/step - loss: 540.0444 - mae: 21.2749 - val_loss: 545.0679 - val_mae: 21.2801\n",
      "Epoch 3/100\n",
      "11/11 [==============================] - 0s 4ms/step - loss: 475.6495 - mae: 19.6140 - val_loss: 460.8592 - val_mae: 19.1258\n",
      "Epoch 4/100\n",
      "11/11 [==============================] - 0s 5ms/step - loss: 378.0750 - mae: 16.8460 - val_loss: 339.7803 - val_mae: 15.4618\n",
      "Epoch 5/100\n",
      "11/11 [==============================] - 0s 4ms/step - loss: 252.4460 - mae: 12.9360 - val_loss: 208.1570 - val_mae: 10.8441\n",
      "Epoch 6/100\n",
      "11/11 [==============================] - 0s 3ms/step - loss: 159.9012 - mae: 9.8160 - val_loss: 134.6580 - val_mae: 8.2745\n",
      "Epoch 7/100\n",
      "11/11 [==============================] - 0s 3ms/step - loss: 127.6708 - mae: 8.7447 - val_loss: 118.9976 - val_mae: 7.9517\n",
      "Epoch 8/100\n",
      "11/11 [==============================] - 0s 4ms/step - loss: 113.4196 - mae: 8.1552 - val_loss: 110.2267 - val_mae: 7.5551\n",
      "Epoch 9/100\n",
      "11/11 [==============================] - 0s 3ms/step - loss: 99.4230 - mae: 7.4398 - val_loss: 102.9869 - val_mae: 7.1778\n",
      "Epoch 10/100\n",
      "11/11 [==============================] - 0s 3ms/step - loss: 87.5653 - mae: 6.8619 - val_loss: 94.5789 - val_mae: 6.8460\n",
      "Epoch 11/100\n",
      "11/11 [==============================] - 0s 3ms/step - loss: 77.9550 - mae: 6.4180 - val_loss: 86.8101 - val_mae: 6.5702\n",
      "Epoch 12/100\n",
      "11/11 [==============================] - 0s 3ms/step - loss: 70.0678 - mae: 6.0377 - val_loss: 81.7580 - val_mae: 6.2977\n",
      "Epoch 13/100\n",
      "11/11 [==============================] - 0s 3ms/step - loss: 63.9143 - mae: 5.7157 - val_loss: 77.2641 - val_mae: 6.1274\n",
      "Epoch 14/100\n",
      "11/11 [==============================] - 0s 3ms/step - loss: 58.9953 - mae: 5.4514 - val_loss: 74.3070 - val_mae: 5.9560\n",
      "Epoch 15/100\n",
      "11/11 [==============================] - 0s 3ms/step - loss: 55.2365 - mae: 5.2651 - val_loss: 71.2835 - val_mae: 5.9948\n",
      "Epoch 16/100\n",
      "11/11 [==============================] - 0s 3ms/step - loss: 52.7666 - mae: 5.1175 - val_loss: 69.4839 - val_mae: 5.8701\n",
      "Epoch 17/100\n",
      "11/11 [==============================] - 0s 3ms/step - loss: 50.3950 - mae: 4.9547 - val_loss: 67.8514 - val_mae: 5.8033\n",
      "Epoch 18/100\n",
      "11/11 [==============================] - 0s 3ms/step - loss: 48.7313 - mae: 4.9274 - val_loss: 65.5349 - val_mae: 5.8891\n",
      "Epoch 19/100\n",
      "11/11 [==============================] - 0s 3ms/step - loss: 46.8482 - mae: 4.7639 - val_loss: 65.4671 - val_mae: 5.5938\n",
      "Epoch 20/100\n",
      "11/11 [==============================] - 0s 3ms/step - loss: 45.4851 - mae: 4.6517 - val_loss: 63.0882 - val_mae: 5.6635\n",
      "Epoch 21/100\n",
      "11/11 [==============================] - 0s 4ms/step - loss: 43.8532 - mae: 4.6580 - val_loss: 61.3697 - val_mae: 5.6428\n",
      "Epoch 22/100\n",
      "11/11 [==============================] - 0s 3ms/step - loss: 42.4279 - mae: 4.5324 - val_loss: 60.7006 - val_mae: 5.4665\n",
      "Epoch 23/100\n",
      "11/11 [==============================] - 0s 3ms/step - loss: 41.0543 - mae: 4.5033 - val_loss: 58.0666 - val_mae: 5.5872\n",
      "Epoch 24/100\n",
      "11/11 [==============================] - 0s 3ms/step - loss: 39.5803 - mae: 4.4246 - val_loss: 57.9314 - val_mae: 5.3142\n",
      "Epoch 25/100\n",
      "11/11 [==============================] - 0s 3ms/step - loss: 38.0631 - mae: 4.2592 - val_loss: 56.0147 - val_mae: 5.3027\n",
      "Epoch 26/100\n",
      "11/11 [==============================] - 0s 7ms/step - loss: 36.7139 - mae: 4.2708 - val_loss: 53.6499 - val_mae: 5.3712\n",
      "Epoch 27/100\n",
      "11/11 [==============================] - 0s 6ms/step - loss: 35.3202 - mae: 4.1774 - val_loss: 53.2578 - val_mae: 5.1275\n",
      "Epoch 28/100\n",
      "11/11 [==============================] - 0s 6ms/step - loss: 33.8517 - mae: 4.0508 - val_loss: 51.8934 - val_mae: 5.0632\n",
      "Epoch 29/100\n",
      "11/11 [==============================] - 0s 4ms/step - loss: 32.5492 - mae: 3.9705 - val_loss: 50.0637 - val_mae: 5.0255\n",
      "Epoch 30/100\n",
      "11/11 [==============================] - 0s 3ms/step - loss: 31.2048 - mae: 3.9067 - val_loss: 48.7801 - val_mae: 4.9497\n",
      "Epoch 31/100\n",
      "11/11 [==============================] - 0s 3ms/step - loss: 30.0796 - mae: 3.7941 - val_loss: 48.7341 - val_mae: 4.8014\n",
      "Epoch 32/100\n",
      "11/11 [==============================] - 0s 3ms/step - loss: 28.7806 - mae: 3.6997 - val_loss: 46.0467 - val_mae: 4.8227\n",
      "Epoch 33/100\n",
      "11/11 [==============================] - 0s 3ms/step - loss: 27.8697 - mae: 3.7247 - val_loss: 44.6981 - val_mae: 4.7704\n",
      "Epoch 34/100\n",
      "11/11 [==============================] - 0s 3ms/step - loss: 26.8061 - mae: 3.5589 - val_loss: 45.0624 - val_mae: 4.7249\n",
      "Epoch 35/100\n",
      "11/11 [==============================] - 0s 3ms/step - loss: 25.7791 - mae: 3.5060 - val_loss: 42.9545 - val_mae: 4.7121\n",
      "Epoch 36/100\n",
      "11/11 [==============================] - 0s 3ms/step - loss: 24.7313 - mae: 3.4357 - val_loss: 42.9787 - val_mae: 4.6588\n",
      "Epoch 37/100\n",
      "11/11 [==============================] - 0s 3ms/step - loss: 24.0199 - mae: 3.3167 - val_loss: 42.2649 - val_mae: 4.6207\n",
      "Epoch 38/100\n",
      "11/11 [==============================] - 0s 4ms/step - loss: 23.1033 - mae: 3.2740 - val_loss: 40.6835 - val_mae: 4.5941\n",
      "Epoch 39/100\n",
      "11/11 [==============================] - 0s 3ms/step - loss: 22.3435 - mae: 3.2550 - val_loss: 39.4615 - val_mae: 4.5551\n",
      "Epoch 40/100\n",
      "11/11 [==============================] - 0s 3ms/step - loss: 21.6544 - mae: 3.1884 - val_loss: 39.5081 - val_mae: 4.4871\n",
      "Epoch 41/100\n",
      "11/11 [==============================] - 0s 3ms/step - loss: 21.0193 - mae: 3.1057 - val_loss: 38.6222 - val_mae: 4.4477\n",
      "Epoch 42/100\n",
      "11/11 [==============================] - 0s 3ms/step - loss: 20.4393 - mae: 3.1033 - val_loss: 37.3460 - val_mae: 4.4182\n",
      "Epoch 43/100\n",
      "11/11 [==============================] - 0s 4ms/step - loss: 19.9405 - mae: 3.0262 - val_loss: 37.9869 - val_mae: 4.3559\n",
      "Epoch 44/100\n",
      "11/11 [==============================] - 0s 4ms/step - loss: 19.5844 - mae: 3.0215 - val_loss: 35.5811 - val_mae: 4.3331\n",
      "Epoch 45/100\n",
      "11/11 [==============================] - 0s 3ms/step - loss: 19.5342 - mae: 2.9970 - val_loss: 36.0316 - val_mae: 4.2585\n",
      "Epoch 46/100\n",
      "11/11 [==============================] - 0s 3ms/step - loss: 18.6717 - mae: 2.9426 - val_loss: 35.1689 - val_mae: 4.2096\n",
      "Epoch 47/100\n",
      "11/11 [==============================] - 0s 4ms/step - loss: 18.4088 - mae: 2.9112 - val_loss: 35.0199 - val_mae: 4.1666\n",
      "Epoch 48/100\n",
      "11/11 [==============================] - 0s 3ms/step - loss: 18.2747 - mae: 2.9531 - val_loss: 34.3051 - val_mae: 4.1143\n",
      "Epoch 49/100\n",
      "11/11 [==============================] - 0s 3ms/step - loss: 17.8408 - mae: 2.8729 - val_loss: 34.0100 - val_mae: 4.0629\n",
      "Epoch 50/100\n",
      "11/11 [==============================] - 0s 3ms/step - loss: 17.5495 - mae: 2.8566 - val_loss: 34.3616 - val_mae: 4.0223\n",
      "Epoch 51/100\n",
      "11/11 [==============================] - 0s 4ms/step - loss: 17.4470 - mae: 2.8625 - val_loss: 33.1826 - val_mae: 3.9840\n",
      "Epoch 52/100\n",
      "11/11 [==============================] - 0s 3ms/step - loss: 17.1735 - mae: 2.8052 - val_loss: 34.3521 - val_mae: 3.9545\n",
      "Epoch 53/100\n",
      "11/11 [==============================] - 0s 4ms/step - loss: 16.7659 - mae: 2.7720 - val_loss: 32.8776 - val_mae: 3.9086\n",
      "Epoch 54/100\n",
      "11/11 [==============================] - 0s 3ms/step - loss: 16.6387 - mae: 2.7920 - val_loss: 32.4856 - val_mae: 3.8719\n",
      "Epoch 55/100\n",
      "11/11 [==============================] - 0s 4ms/step - loss: 16.4366 - mae: 2.7357 - val_loss: 33.1946 - val_mae: 3.8649\n",
      "Epoch 56/100\n",
      "11/11 [==============================] - 0s 3ms/step - loss: 16.2933 - mae: 2.7557 - val_loss: 31.5572 - val_mae: 3.7902\n",
      "Epoch 57/100\n",
      "11/11 [==============================] - 0s 4ms/step - loss: 16.0232 - mae: 2.7162 - val_loss: 32.9737 - val_mae: 3.8343\n",
      "Epoch 58/100\n",
      "11/11 [==============================] - 0s 5ms/step - loss: 15.9192 - mae: 2.6917 - val_loss: 31.3731 - val_mae: 3.7661\n",
      "Epoch 59/100\n",
      "11/11 [==============================] - 0s 6ms/step - loss: 15.7929 - mae: 2.7052 - val_loss: 31.5402 - val_mae: 3.7664\n",
      "Epoch 60/100\n",
      "11/11 [==============================] - 0s 4ms/step - loss: 15.6618 - mae: 2.6808 - val_loss: 30.5750 - val_mae: 3.7128\n",
      "Epoch 61/100\n",
      "11/11 [==============================] - 0s 4ms/step - loss: 15.6319 - mae: 2.6577 - val_loss: 31.3647 - val_mae: 3.7237\n"
     ]
    },
    {
     "name": "stdout",
     "output_type": "stream",
     "text": [
      "Epoch 62/100\n",
      "11/11 [==============================] - 0s 3ms/step - loss: 15.5089 - mae: 2.6908 - val_loss: 30.1600 - val_mae: 3.6524\n",
      "Epoch 63/100\n",
      "11/11 [==============================] - 0s 4ms/step - loss: 15.6551 - mae: 2.6361 - val_loss: 31.0641 - val_mae: 3.6829\n",
      "Epoch 64/100\n",
      "11/11 [==============================] - 0s 4ms/step - loss: 15.3686 - mae: 2.7085 - val_loss: 29.2226 - val_mae: 3.5944\n",
      "Epoch 65/100\n",
      "11/11 [==============================] - 0s 4ms/step - loss: 15.2530 - mae: 2.6051 - val_loss: 30.6430 - val_mae: 3.6401\n",
      "Epoch 66/100\n",
      "11/11 [==============================] - 0s 3ms/step - loss: 14.8600 - mae: 2.6305 - val_loss: 29.0959 - val_mae: 3.5584\n",
      "Epoch 67/100\n",
      "11/11 [==============================] - 0s 3ms/step - loss: 14.7197 - mae: 2.6038 - val_loss: 29.8734 - val_mae: 3.5929\n",
      "Epoch 68/100\n",
      "11/11 [==============================] - 0s 3ms/step - loss: 14.6855 - mae: 2.5605 - val_loss: 29.3805 - val_mae: 3.5387\n",
      "Epoch 69/100\n",
      "11/11 [==============================] - 0s 4ms/step - loss: 14.4948 - mae: 2.5764 - val_loss: 28.7502 - val_mae: 3.4999\n",
      "Epoch 70/100\n",
      "11/11 [==============================] - 0s 3ms/step - loss: 14.4949 - mae: 2.5620 - val_loss: 29.2674 - val_mae: 3.5195\n",
      "Epoch 71/100\n",
      "11/11 [==============================] - 0s 3ms/step - loss: 14.4523 - mae: 2.5972 - val_loss: 27.9451 - val_mae: 3.4391\n",
      "Epoch 72/100\n",
      "11/11 [==============================] - 0s 3ms/step - loss: 14.2723 - mae: 2.5392 - val_loss: 29.1125 - val_mae: 3.4771\n",
      "Epoch 73/100\n",
      "11/11 [==============================] - 0s 3ms/step - loss: 14.3021 - mae: 2.5849 - val_loss: 28.4242 - val_mae: 3.4335\n",
      "Epoch 74/100\n",
      "11/11 [==============================] - 0s 3ms/step - loss: 13.9525 - mae: 2.5220 - val_loss: 28.5182 - val_mae: 3.4171\n",
      "Epoch 75/100\n",
      "11/11 [==============================] - 0s 3ms/step - loss: 13.9518 - mae: 2.5031 - val_loss: 27.5477 - val_mae: 3.3674\n",
      "Epoch 76/100\n",
      "11/11 [==============================] - 0s 3ms/step - loss: 13.8357 - mae: 2.5070 - val_loss: 27.1176 - val_mae: 3.3379\n",
      "Epoch 77/100\n",
      "11/11 [==============================] - 0s 3ms/step - loss: 13.9998 - mae: 2.5028 - val_loss: 26.3350 - val_mae: 3.2762\n",
      "Epoch 78/100\n",
      "11/11 [==============================] - 0s 4ms/step - loss: 13.7573 - mae: 2.5489 - val_loss: 26.4357 - val_mae: 3.2780\n",
      "Epoch 79/100\n",
      "11/11 [==============================] - 0s 3ms/step - loss: 13.5173 - mae: 2.4513 - val_loss: 27.5224 - val_mae: 3.3203\n",
      "Epoch 80/100\n",
      "11/11 [==============================] - 0s 3ms/step - loss: 13.9104 - mae: 2.5535 - val_loss: 25.9204 - val_mae: 3.2398\n",
      "Epoch 81/100\n",
      "11/11 [==============================] - 0s 3ms/step - loss: 13.4806 - mae: 2.4541 - val_loss: 26.8664 - val_mae: 3.2569\n",
      "Epoch 82/100\n",
      "11/11 [==============================] - 0s 4ms/step - loss: 13.3809 - mae: 2.4910 - val_loss: 26.0831 - val_mae: 3.2174\n",
      "Epoch 83/100\n",
      "11/11 [==============================] - 0s 4ms/step - loss: 13.4540 - mae: 2.4759 - val_loss: 24.4944 - val_mae: 3.1487\n",
      "Epoch 84/100\n",
      "11/11 [==============================] - 0s 5ms/step - loss: 13.1309 - mae: 2.4721 - val_loss: 27.1206 - val_mae: 3.3025\n",
      "Epoch 85/100\n",
      "11/11 [==============================] - 0s 7ms/step - loss: 13.2252 - mae: 2.4204 - val_loss: 24.1787 - val_mae: 3.1054\n",
      "Epoch 86/100\n",
      "11/11 [==============================] - 0s 4ms/step - loss: 13.0189 - mae: 2.4415 - val_loss: 25.2801 - val_mae: 3.1243\n",
      "Epoch 87/100\n",
      "11/11 [==============================] - 0s 4ms/step - loss: 12.8214 - mae: 2.4125 - val_loss: 24.6574 - val_mae: 3.1063\n",
      "Epoch 88/100\n",
      "11/11 [==============================] - 0s 5ms/step - loss: 12.8147 - mae: 2.3980 - val_loss: 24.0034 - val_mae: 3.0744\n",
      "Epoch 89/100\n",
      "11/11 [==============================] - 0s 4ms/step - loss: 12.7915 - mae: 2.4685 - val_loss: 23.8684 - val_mae: 3.0477\n",
      "Epoch 90/100\n",
      "11/11 [==============================] - 0s 4ms/step - loss: 12.8847 - mae: 2.4032 - val_loss: 23.4003 - val_mae: 3.0216\n",
      "Epoch 91/100\n",
      "11/11 [==============================] - 0s 3ms/step - loss: 12.8865 - mae: 2.5005 - val_loss: 24.0191 - val_mae: 3.0335\n",
      "Epoch 92/100\n",
      "11/11 [==============================] - 0s 3ms/step - loss: 12.7256 - mae: 2.3787 - val_loss: 24.1316 - val_mae: 3.0322\n",
      "Epoch 93/100\n",
      "11/11 [==============================] - 0s 3ms/step - loss: 13.3736 - mae: 2.5567 - val_loss: 23.3893 - val_mae: 3.0032\n",
      "Epoch 94/100\n",
      "11/11 [==============================] - 0s 3ms/step - loss: 12.5839 - mae: 2.3687 - val_loss: 23.5749 - val_mae: 3.0045\n",
      "Epoch 95/100\n",
      "11/11 [==============================] - 0s 4ms/step - loss: 12.4538 - mae: 2.4001 - val_loss: 22.6439 - val_mae: 2.9408\n",
      "Epoch 96/100\n",
      "11/11 [==============================] - 0s 3ms/step - loss: 12.4826 - mae: 2.3765 - val_loss: 22.4167 - val_mae: 2.9166\n",
      "Epoch 97/100\n",
      "11/11 [==============================] - 0s 3ms/step - loss: 12.2120 - mae: 2.4063 - val_loss: 21.5042 - val_mae: 2.8749\n",
      "Epoch 98/100\n",
      "11/11 [==============================] - 0s 3ms/step - loss: 12.1044 - mae: 2.3496 - val_loss: 22.5594 - val_mae: 2.9338\n",
      "Epoch 99/100\n",
      "11/11 [==============================] - 0s 3ms/step - loss: 12.2426 - mae: 2.4006 - val_loss: 21.8060 - val_mae: 2.8700\n",
      "Epoch 100/100\n",
      "11/11 [==============================] - 0s 4ms/step - loss: 12.0700 - mae: 2.3404 - val_loss: 21.6537 - val_mae: 2.8491\n"
     ]
    }
   ],
   "source": [
    "history = model.fit(X_train, y_train, epochs=100, validation_split=0.05, verbose = 1)"
   ]
  },
  {
   "cell_type": "code",
   "execution_count": 6,
   "metadata": {
    "colab": {
     "base_uri": "https://localhost:8080/"
    },
    "id": "MzY8zjL5s9jS",
    "outputId": "48a88cbe-ef1d-456a-b104-f0210b2bb424"
   },
   "outputs": [
    {
     "name": "stdout",
     "output_type": "stream",
     "text": [
      "5/5 [==============================] - 0s 2ms/step - loss: 21.8800 - mae: 2.9837\n",
      "Mean squared error on test data:  21.879989624023438\n",
      "Mean absolute error on test data:  2.9837028980255127\n"
     ]
    }
   ],
   "source": [
    "mse_nn, mae_nn = model.evaluate(X_test, y_test)\n",
    "\n",
    "print('Mean squared error on test data: ', mse_nn)\n",
    "print('Mean absolute error on test data: ', mae_nn)"
   ]
  },
  {
   "cell_type": "code",
   "execution_count": null,
   "metadata": {},
   "outputs": [],
   "source": []
  }
 ],
 "metadata": {
  "colab": {
   "provenance": []
  },
  "kernelspec": {
   "display_name": "Python 3 (ipykernel)",
   "language": "python",
   "name": "python3"
  },
  "language_info": {
   "codemirror_mode": {
    "name": "ipython",
    "version": 3
   },
   "file_extension": ".py",
   "mimetype": "text/x-python",
   "name": "python",
   "nbconvert_exporter": "python",
   "pygments_lexer": "ipython3",
   "version": "3.9.7"
  }
 },
 "nbformat": 4,
 "nbformat_minor": 1
}
